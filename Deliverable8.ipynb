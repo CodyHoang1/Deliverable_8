{
  "nbformat": 4,
  "nbformat_minor": 0,
  "metadata": {
    "colab": {
      "provenance": []
    },
    "kernelspec": {
      "name": "python3",
      "display_name": "Python 3"
    },
    "language_info": {
      "name": "python"
    }
  },
  "cells": [
    {
      "cell_type": "code",
      "execution_count": 96,
      "metadata": {
        "id": "hmbYIvtukuzJ"
      },
      "outputs": [],
      "source": [
        "import numpy as np"
      ]
    },
    {
      "cell_type": "code",
      "source": [
        "def random_list(n):\n",
        "  list = []\n",
        "  for i in range(n):\n",
        "    list.append(np.random.randint(10,50))\n",
        "  \n",
        "  print(\"The elements of the arrays are: \",end=\" \")\n",
        "  for i in list:\n",
        "      print(i,end=\" \")\n",
        "  \n",
        "  \n",
        "  return list\n",
        "\n",
        "def sum_random(method1):\n",
        "    sum =0\n",
        "    for i in method1:\n",
        "        sum+=i\n",
        "    \n",
        "    return sum\n",
        "\n",
        "\n",
        "while(True):\n",
        "    n = int(input(\"Enter an integer number between 5 and 15: \"))\n",
        "    print(\" \")\n",
        "\n",
        "    if n >= 5 and n <=15:\n",
        "        break\n",
        "        \n",
        "   \n",
        "    else:\n",
        "        print(\"Enter an intger number only between 5 and 15: \")\n",
        "  \n",
        "method1 = random_list(n)\n",
        "total = sum_random(method1)\n",
        "print(\" \")\n",
        "print(\"\\nThe sum is: \",total)"
      ],
      "metadata": {
        "colab": {
          "base_uri": "https://localhost:8080/"
        },
        "id": "uU-YVDyZ3i9z",
        "outputId": "ffb40338-2640-4a3f-ad85-73612696cbaa"
      },
      "execution_count": 112,
      "outputs": [
        {
          "output_type": "stream",
          "name": "stdout",
          "text": [
            "Enter an integer number between 5 and 15: 5\n",
            " \n",
            "The elements of the arrays are:  23 27 42 41 24  \n",
            "\n",
            "The sum is:  157\n"
          ]
        }
      ]
    }
  ]
}